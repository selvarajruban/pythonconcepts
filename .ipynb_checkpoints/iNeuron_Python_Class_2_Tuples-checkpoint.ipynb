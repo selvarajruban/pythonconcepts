{
 "cells": [
  {
   "cell_type": "code",
   "execution_count": 2,
   "id": "dbb0039d",
   "metadata": {},
   "outputs": [
    {
     "data": {
      "text/plain": [
       "tuple"
      ]
     },
     "execution_count": 2,
     "metadata": {},
     "output_type": "execute_result"
    }
   ],
   "source": [
    "# Collection data types Tuples, List, Set, Dictionary\n",
    "\n",
    "# What is Tuples - Collection of records stored in single variable with notation ()\n",
    "\n",
    "t = (1,2,3,4)\n",
    "\n",
    "type(t) # if any variables defined with notation () it is treated as Tuples"
   ]
  },
  {
   "cell_type": "code",
   "execution_count": 9,
   "id": "d54f44a7",
   "metadata": {},
   "outputs": [
    {
     "name": "stdout",
     "output_type": "stream",
     "text": [
      "<class 'tuple'> <class 'list'>\n"
     ]
    }
   ],
   "source": [
    "t = (1,'selva', '10.5', 10+3j) # Tuples\n",
    "l = [1,'selva', '10.5', 10+3j] # Lists\n",
    "\n",
    "print(type(t), type(l))"
   ]
  },
  {
   "cell_type": "code",
   "execution_count": 10,
   "id": "45bb8659",
   "metadata": {},
   "outputs": [
    {
     "data": {
      "text/plain": [
       "tuple"
      ]
     },
     "execution_count": 10,
     "metadata": {},
     "output_type": "execute_result"
    }
   ],
   "source": [
    "# Properties of Tuples\n",
    "t2 = ()\n",
    "type(t2)"
   ]
  },
  {
   "cell_type": "code",
   "execution_count": 14,
   "id": "69b24df4",
   "metadata": {},
   "outputs": [
    {
     "data": {
      "text/plain": [
       "[2, 'selva']"
      ]
     },
     "execution_count": 14,
     "metadata": {},
     "output_type": "execute_result"
    }
   ],
   "source": [
    "l = [1,2, 'selva']\n",
    "l[1:3]"
   ]
  },
  {
   "cell_type": "code",
   "execution_count": 29,
   "id": "4ec9814b",
   "metadata": {},
   "outputs": [
    {
     "data": {
      "text/plain": [
       "(1, 'selva')"
      ]
     },
     "execution_count": 29,
     "metadata": {},
     "output_type": "execute_result"
    }
   ],
   "source": [
    "t = (1,2,'selva')\n",
    "t[::-1]\n",
    "t[-1]\n",
    "t[0::2] # jump of 2"
   ]
  },
  {
   "cell_type": "code",
   "execution_count": 32,
   "id": "25a7eb2e",
   "metadata": {},
   "outputs": [
    {
     "data": {
      "text/plain": [
       "['KUMYR', 2, 'selva']"
      ]
     },
     "execution_count": 32,
     "metadata": {},
     "output_type": "execute_result"
    }
   ],
   "source": [
    "# Differences between list and tuples\n",
    "# 1. Item re-assignment not possible in tuples (IMMutables) [String is also Immutable]. Tuples not supported \n",
    "#    append, insert, modifications.\n",
    "# 2. Item Notation list with [], Tuples with ()\n",
    "#\n",
    "\n",
    "l1 = [4,1,2,3]\n",
    "l[0] = 'KUMYR'\n",
    "l"
   ]
  },
  {
   "cell_type": "code",
   "execution_count": 35,
   "id": "abf2bc91",
   "metadata": {},
   "outputs": [
    {
     "ename": "TypeError",
     "evalue": "'str' object does not support item assignment",
     "output_type": "error",
     "traceback": [
      "\u001b[0;31m---------------------------------------------------------------------------\u001b[0m",
      "\u001b[0;31mTypeError\u001b[0m                                 Traceback (most recent call last)",
      "\u001b[0;32m<ipython-input-35-155ea2c9b57e>\u001b[0m in \u001b[0;36m<module>\u001b[0;34m\u001b[0m\n\u001b[1;32m      3\u001b[0m \u001b[0;34m\u001b[0m\u001b[0m\n\u001b[1;32m      4\u001b[0m \u001b[0ms\u001b[0m \u001b[0;34m=\u001b[0m \u001b[0;34m\"selvaraj\"\u001b[0m\u001b[0;34m\u001b[0m\u001b[0;34m\u001b[0m\u001b[0m\n\u001b[0;32m----> 5\u001b[0;31m \u001b[0ms\u001b[0m\u001b[0;34m[\u001b[0m\u001b[0;36m0\u001b[0m\u001b[0;34m]\u001b[0m \u001b[0;34m=\u001b[0m \u001b[0;34m'a'\u001b[0m\u001b[0;34m\u001b[0m\u001b[0;34m\u001b[0m\u001b[0m\n\u001b[0m",
      "\u001b[0;31mTypeError\u001b[0m: 'str' object does not support item assignment"
     ]
    }
   ],
   "source": [
    "t = (0,1,2,3,4,5)\n",
    "# t[0] = 'selva' # TypeError: 'tuple' object does not support item assignment\n",
    "\n",
    "s = \"selvaraj\"\n",
    "s[0] = 'a' #  TypeError: 'str' object does not support item assignment"
   ]
  },
  {
   "cell_type": "markdown",
   "id": "0927c900",
   "metadata": {},
   "source": [
    "t1 = (1,2,3,1,1)\n",
    "t2 = (2, 3)\n",
    "t1*2"
   ]
  },
  {
   "cell_type": "code",
   "execution_count": 52,
   "id": "9b167c85",
   "metadata": {
    "collapsed": true
   },
   "outputs": [
    {
     "name": "stdout",
     "output_type": "stream",
     "text": [
      "1\n"
     ]
    }
   ],
   "source": [
    "t1 = (1,2,3,1,1)\n",
    "\n",
    "print(t1.count(2)) # no occurances of element in t1 tuples\n"
   ]
  },
  {
   "cell_type": "code",
   "execution_count": 58,
   "id": "ef0e0fca",
   "metadata": {},
   "outputs": [
    {
     "data": {
      "text/plain": [
       "tuple"
      ]
     },
     "execution_count": 58,
     "metadata": {},
     "output_type": "execute_result"
    }
   ],
   "source": [
    "t1 = (1,2,(1,2))\n",
    "type(t1[2])"
   ]
  },
  {
   "cell_type": "code",
   "execution_count": 76,
   "id": "37af614d",
   "metadata": {},
   "outputs": [
    {
     "data": {
      "text/plain": [
       "(1, 2, 3, [4, 2])"
      ]
     },
     "execution_count": 76,
     "metadata": {},
     "output_type": "execute_result"
    }
   ],
   "source": [
    "t1 = (1,2,3,[1,2,],)\n",
    "t1[3][0]=4\n",
    "t1"
   ]
  },
  {
   "cell_type": "code",
   "execution_count": 65,
   "id": "6aa4ac48",
   "metadata": {},
   "outputs": [
    {
     "data": {
      "text/plain": [
       "(2, 2)"
      ]
     },
     "execution_count": 65,
     "metadata": {},
     "output_type": "execute_result"
    }
   ],
   "source": [
    "t1 = (1+1, 2)\n",
    "t1"
   ]
  },
  {
   "cell_type": "code",
   "execution_count": 69,
   "id": "a919adbf",
   "metadata": {},
   "outputs": [
    {
     "data": {
      "text/plain": [
       "'t'"
      ]
     },
     "execution_count": 69,
     "metadata": {},
     "output_type": "execute_result"
    }
   ],
   "source": [
    "l = [1,2,3, ('t')]\n",
    "l[3]"
   ]
  },
  {
   "cell_type": "code",
   "execution_count": 73,
   "id": "b9084d3c",
   "metadata": {},
   "outputs": [
    {
     "data": {
      "text/plain": [
       "[1, 2, 3, 't']"
      ]
     },
     "execution_count": 73,
     "metadata": {},
     "output_type": "execute_result"
    }
   ],
   "source": [
    "list(tuple(l))"
   ]
  }
 ],
 "metadata": {
  "kernelspec": {
   "display_name": "Python 3",
   "language": "python",
   "name": "python3"
  },
  "language_info": {
   "codemirror_mode": {
    "name": "ipython",
    "version": 3
   },
   "file_extension": ".py",
   "mimetype": "text/x-python",
   "name": "python",
   "nbconvert_exporter": "python",
   "pygments_lexer": "ipython3",
   "version": "3.8.8"
  }
 },
 "nbformat": 4,
 "nbformat_minor": 5
}
