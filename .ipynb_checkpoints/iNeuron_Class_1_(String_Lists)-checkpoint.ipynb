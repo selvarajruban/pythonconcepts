{
 "cells": [
  {
   "cell_type": "code",
   "execution_count": 97,
   "id": "e76405f3",
   "metadata": {},
   "outputs": [
    {
     "data": {
      "text/plain": [
       "'jaravles'"
      ]
     },
     "execution_count": 97,
     "metadata": {},
     "output_type": "execute_result"
    }
   ],
   "source": [
    "s = \"selvaraj\"\n",
    "\n",
    "# s = [1,2,3,4,5]\n",
    "# s[::-1]\n",
    "\n",
    "# s[0:-10:-1]\n",
    "\n",
    "# s = s[::-1]\n",
    "\n",
    "s[-5:1:-1]\n",
    "s[::-1]\n",
    "\n",
    "\n"
   ]
  },
  {
   "cell_type": "markdown",
   "id": "733523e4",
   "metadata": {},
   "source": [
    "\"slva\"*1\n",
    "(int('')) * (1)"
   ]
  }
 ],
 "metadata": {
  "kernelspec": {
   "display_name": "Python 3",
   "language": "python",
   "name": "python3"
  },
  "language_info": {
   "codemirror_mode": {
    "name": "ipython",
    "version": 3
   },
   "file_extension": ".py",
   "mimetype": "text/x-python",
   "name": "python",
   "nbconvert_exporter": "python",
   "pygments_lexer": "ipython3",
   "version": "3.8.8"
  }
 },
 "nbformat": 4,
 "nbformat_minor": 5
}
