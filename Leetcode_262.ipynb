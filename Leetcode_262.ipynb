{
 "cells": [
  {
   "cell_type": "code",
   "execution_count": 41,
   "id": "dbffb6ab",
   "metadata": {},
   "outputs": [
    {
     "data": {
      "text/plain": [
       "[1, 1, 2, 3, 2, 3, 3]"
      ]
     },
     "execution_count": 41,
     "metadata": {},
     "output_type": "execute_result"
    }
   ],
   "source": [
    "nums1 = [1,1,2,3]\n",
    "nums2=[2,3]\n",
    "nums3=[3]\n",
    "res=[]\n",
    "\n",
    "nums4 = nums1 + nums2 + nums3\n",
    "nums4\n"
   ]
  },
  {
   "cell_type": "code",
   "execution_count": 59,
   "id": "450dcb23",
   "metadata": {},
   "outputs": [
    {
     "data": {
      "text/plain": [
       "[3, 2]"
      ]
     },
     "execution_count": 59,
     "metadata": {},
     "output_type": "execute_result"
    }
   ],
   "source": [
    "res=[]\n",
    "rtype=[]\n",
    "\n",
    "def resList(s):\n",
    "    if s in res:\n",
    "        pass\n",
    "    else:\n",
    "        res.append(s)\n",
    "        \n",
    "for i in nums1:\n",
    "    if i in nums2 and i in nums3:\n",
    "        resList(i)\n",
    "\n",
    "for j in nums1:\n",
    "    if j in nums2 or j in nums3:\n",
    "        resList(j)\n",
    "\n",
    "for k in nums2:\n",
    "    if k in nums3:\n",
    "        resList(k)\n",
    "res"
   ]
  },
  {
   "cell_type": "code",
   "execution_count": 48,
   "id": "483ec908",
   "metadata": {},
   "outputs": [
    {
     "name": "stdout",
     "output_type": "stream",
     "text": [
      "1\n",
      "2\n",
      "3\n"
     ]
    }
   ],
   "source": [
    "for i in set(nums1):\n",
    "    print(i)\n",
    "             "
   ]
  },
  {
   "cell_type": "code",
   "execution_count": 35,
   "id": "2379eb78",
   "metadata": {},
   "outputs": [],
   "source": [
    "for i in range(len(nums1)):\n",
    "    for j in range(len(nums2)):\n",
    "        for k in range(len(nums3)):\n",
    "            if nums1[i]==nums2[j] or nums2[j]==nums3[k] or nums3[k] == nums1[i]:\n",
    "                res.append(nums4[i])\n",
    "            "
   ]
  },
  {
   "cell_type": "code",
   "execution_count": 37,
   "id": "f330b587",
   "metadata": {},
   "outputs": [
    {
     "data": {
      "text/plain": [
       "[2, 3]"
      ]
     },
     "execution_count": 37,
     "metadata": {},
     "output_type": "execute_result"
    }
   ],
   "source": [
    "res"
   ]
  },
  {
   "cell_type": "code",
   "execution_count": 55,
   "id": "664acbee",
   "metadata": {},
   "outputs": [
    {
     "ename": "ValueError",
     "evalue": "tuple.index(x): x not in tuple",
     "output_type": "error",
     "traceback": [
      "\u001b[0;31m---------------------------------------------------------------------------\u001b[0m",
      "\u001b[0;31mValueError\u001b[0m                                Traceback (most recent call last)",
      "\u001b[0;32m<ipython-input-55-b43a48d20306>\u001b[0m in \u001b[0;36m<module>\u001b[0;34m\u001b[0m\n\u001b[1;32m      2\u001b[0m \u001b[0;34m\u001b[0m\u001b[0m\n\u001b[1;32m      3\u001b[0m \u001b[0mtup\u001b[0m\u001b[0;34m.\u001b[0m\u001b[0mindex\u001b[0m\u001b[0;34m(\u001b[0m\u001b[0;36m2\u001b[0m\u001b[0;34m)\u001b[0m\u001b[0;34m\u001b[0m\u001b[0;34m\u001b[0m\u001b[0m\n\u001b[0;32m----> 4\u001b[0;31m \u001b[0mtup\u001b[0m\u001b[0;34m.\u001b[0m\u001b[0mindex\u001b[0m\u001b[0;34m(\u001b[0m\u001b[0;36m3\u001b[0m\u001b[0;34m)\u001b[0m\u001b[0;34m\u001b[0m\u001b[0;34m\u001b[0m\u001b[0m\n\u001b[0m",
      "\u001b[0;31mValueError\u001b[0m: tuple.index(x): x not in tuple"
     ]
    }
   ],
   "source": [
    "tup = (1,2)\n",
    "\n",
    "tup.index(2)\n",
    "tup.index(3)"
   ]
  },
  {
   "cell_type": "code",
   "execution_count": 30,
   "id": "5c061859",
   "metadata": {},
   "outputs": [
    {
     "data": {
      "text/plain": [
       "[2, 3]"
      ]
     },
     "execution_count": 30,
     "metadata": {},
     "output_type": "execute_result"
    }
   ],
   "source": [
    "r =()\n",
    "r = set(res)\n",
    "list(rb"
   ]
  },
  {
   "cell_type": "code",
   "execution_count": 62,
   "id": "b975fedd",
   "metadata": {},
   "outputs": [
    {
     "data": {
      "text/plain": [
       "{3}"
      ]
     },
     "execution_count": 62,
     "metadata": {},
     "output_type": "execute_result"
    }
   ],
   "source": [
    "s = (1,2,3)\n",
    "s2 = (3,4)\n",
    "\n",
    "set(s)&set(s2)"
   ]
  }
 ],
 "metadata": {
  "kernelspec": {
   "display_name": "Python 3",
   "language": "python",
   "name": "python3"
  },
  "language_info": {
   "codemirror_mode": {
    "name": "ipython",
    "version": 3
   },
   "file_extension": ".py",
   "mimetype": "text/x-python",
   "name": "python",
   "nbconvert_exporter": "python",
   "pygments_lexer": "ipython3",
   "version": "3.8.8"
  }
 },
 "nbformat": 4,
 "nbformat_minor": 5
}
