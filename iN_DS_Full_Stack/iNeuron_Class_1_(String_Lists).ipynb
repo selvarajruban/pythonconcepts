{
 "cells": [
  {
   "cell_type": "code",
   "execution_count": 97,
   "id": "b75776ed",
   "metadata": {},
   "outputs": [
    {
     "data": {
      "text/plain": [
       "'jaravles'"
      ]
     },
     "execution_count": 97,
     "metadata": {},
     "output_type": "execute_result"
    }
   ],
   "source": [
    "s = \"selvaraj\"\n",
    "\n",
    "# s = [1,2,3,4,5]\n",
    "# s[::-1]\n",
    "# s[0:-10:-1]\n",
    "# s = s[::-1]\n",
    "\n",
    "s[-5:1:-1]\n",
    "s[::-1]"
   ]
  },
  {
   "cell_type": "markdown",
   "id": "58a3889a",
   "metadata": {},
   "source": [
    "\"slva\"*1\n",
    "(int('')) * (1)"
   ]
  },
  {
   "cell_type": "code",
   "execution_count": 158,
   "id": "8af88218",
   "metadata": {},
   "outputs": [
    {
     "ename": "SyntaxError",
     "evalue": "invalid syntax (<ipython-input-158-5a57a9cd17a0>, line 5)",
     "output_type": "error",
     "traceback": [
      "\u001b[0;36m  File \u001b[0;32m\"<ipython-input-158-5a57a9cd17a0>\"\u001b[0;36m, line \u001b[0;32m5\u001b[0m\n\u001b[0;31m    print('{} is occured {}'.format(s[i], s.count(s[i]))) i for i in range(len(s))\u001b[0m\n\u001b[0m                                                          ^\u001b[0m\n\u001b[0;31mSyntaxError\u001b[0m\u001b[0;31m:\u001b[0m invalid syntax\n"
     ]
    }
   ],
   "source": [
    "s= 'selvaraj'\n",
    "\n",
    "s.find('raju')\n",
    "\n",
    "print('{} is occured {}'.format(s[i], s.count(s[i]))) i for i in range(len(s))\n",
    "    "
   ]
  },
  {
   "cell_type": "code",
   "execution_count": 206,
   "id": "d7539935",
   "metadata": {},
   "outputs": [
    {
     "data": {
      "text/plain": [
       "'uron@gmail.com'"
      ]
     },
     "execution_count": 206,
     "metadata": {},
     "output_type": "execute_result"
    }
   ],
   "source": [
    "sen = \"ineuron@gmail.com\"\n",
    "sen.strip(\"ine\")"
   ]
  },
  {
   "cell_type": "code",
   "execution_count": 211,
   "id": "14d22f0f",
   "metadata": {},
   "outputs": [
    {
     "name": "stdout",
     "output_type": "stream",
     "text": [
      "27\n",
      "10\n"
     ]
    }
   ],
   "source": [
    "s = \"   fly me   to   the moon  \"\n",
    "s.strip().split()[-1]\n",
    "print(len(s))\n",
    "print(len(list(set(s))))"
   ]
  },
  {
   "cell_type": "code",
   "execution_count": 216,
   "id": "cecd278b",
   "metadata": {},
   "outputs": [
    {
     "data": {
      "text/plain": [
       "True"
      ]
     },
     "execution_count": 216,
     "metadata": {},
     "output_type": "execute_result"
    }
   ],
   "source": [
    "s = \"   \"\n",
    "s.isspace()"
   ]
  },
  {
   "cell_type": "code",
   "execution_count": 228,
   "id": "ad9c6fbf",
   "metadata": {},
   "outputs": [
    {
     "data": {
      "text/plain": [
       "4.0"
      ]
     },
     "execution_count": 228,
     "metadata": {},
     "output_type": "execute_result"
    }
   ],
   "source": [
    "s = ['selva', 'raj', True, 4+3j]\n",
    "\n",
    "(s[3]).real"
   ]
  },
  {
   "cell_type": "code",
   "execution_count": 240,
   "id": "b8d43b96",
   "metadata": {},
   "outputs": [],
   "source": [
    "l1 = [1,2,3]\n",
    "l2 = [4,5,6]\n",
    "\n",
    "l1[0] = 'se;va'\n"
   ]
  },
  {
   "cell_type": "code",
   "execution_count": 242,
   "id": "b320a4cb",
   "metadata": {},
   "outputs": [
    {
     "ename": "TypeError",
     "evalue": "'str' object does not support item assignment",
     "output_type": "error",
     "traceback": [
      "\u001b[0;31m---------------------------------------------------------------------------\u001b[0m",
      "\u001b[0;31mTypeError\u001b[0m                                 Traceback (most recent call last)",
      "\u001b[0;32m<ipython-input-242-036194a92f53>\u001b[0m in \u001b[0;36m<module>\u001b[0;34m\u001b[0m\n\u001b[0;32m----> 1\u001b[0;31m \u001b[0ml1\u001b[0m\u001b[0;34m[\u001b[0m\u001b[0;36m0\u001b[0m\u001b[0;34m]\u001b[0m\u001b[0;34m[\u001b[0m\u001b[0;36m0\u001b[0m\u001b[0;34m]\u001b[0m\u001b[0;34m=\u001b[0m\u001b[0;34m'k'\u001b[0m\u001b[0;34m\u001b[0m\u001b[0;34m\u001b[0m\u001b[0m\n\u001b[0m",
      "\u001b[0;31mTypeError\u001b[0m: 'str' object does not support item assignment"
     ]
    }
   ],
   "source": [
    "l1[0][0]='k'\n",
    "\n",
    "# String is not mutable(Change) \n",
    "# list is mutable(change)"
   ]
  },
  {
   "cell_type": "code",
   "execution_count": 250,
   "id": "b7df9b45",
   "metadata": {},
   "outputs": [
    {
     "data": {
      "text/plain": [
       "[2, 3, 4, 5, 6]"
      ]
     },
     "execution_count": 250,
     "metadata": {},
     "output_type": "execute_result"
    }
   ],
   "source": [
    "#  pop\n",
    "l = [1,2,3,4,5,6]\n",
    "l.pop(0) #Index to be passed if any specific index element to be removed."
   ]
  },
  {
   "cell_type": "code",
   "execution_count": 266,
   "id": "32fb47a3",
   "metadata": {},
   "outputs": [
    {
     "data": {
      "text/plain": [
       "27"
      ]
     },
     "execution_count": 266,
     "metadata": {},
     "output_type": "execute_result"
    }
   ],
   "source": [
    "# push\n",
    "l = [1,2,3,4,5, False]\n",
    "l.append(6) # <- Insert at last position of list\n",
    "l.insert(-2,6) # <- Insert at specified position insert(Object, index)\n",
    "sum(l)"
   ]
  },
  {
   "cell_type": "code",
   "execution_count": null,
   "id": "3d412b54",
   "metadata": {},
   "outputs": [],
   "source": [
    "# Given a string containing digits from 2-9 inclusive, return all possible letter \n",
    "# combinations that the number could represent. Return the answer in any order.\n",
    "\n",
    "# A mapping of digit to letters (just like on the telephone buttons) is given below. \n",
    "# Note that 1 does not map to any letters.\n",
    "\n",
    "\n",
    "\n",
    "class Solution(object):\n",
    "    def letterCombinations(self, digits):\n",
    "        \"\"\"\n",
    "        :type digits: str\n",
    "        :rtype: List[str]\n",
    "        \"\"\"\n",
    "        alist = [0, 'abc', 'def', 'ghi', 'jkl', 'mno', 'pqrs', 'tuv', 'wxyz']\n",
    "        digits = \n",
    "        "
   ]
  },
  {
   "cell_type": "code",
   "execution_count": 270,
   "id": "dab45041",
   "metadata": {},
   "outputs": [
    {
     "data": {
      "text/plain": [
       "1"
      ]
     },
     "execution_count": 270,
     "metadata": {},
     "output_type": "execute_result"
    }
   ],
   "source": [
    "s = [1, 2, 'selva']\n",
    "s.count('selva') # Counts no of occurances in list\n"
   ]
  },
  {
   "cell_type": "code",
   "execution_count": 276,
   "id": "4e38d8f3",
   "metadata": {},
   "outputs": [
    {
     "data": {
      "text/plain": [
       "[1, 2, 3, 'selva', [True]]"
      ]
     },
     "execution_count": 276,
     "metadata": {},
     "output_type": "execute_result"
    }
   ],
   "source": [
    "s = [1,2,3]\n",
    "s.extend(['selva', [True]]) # list concatenation\n",
    "s"
   ]
  }
 ],
 "metadata": {
  "kernelspec": {
   "display_name": "Python 3",
   "language": "python",
   "name": "python3"
  },
  "language_info": {
   "codemirror_mode": {
    "name": "ipython",
    "version": 3
   },
   "file_extension": ".py",
   "mimetype": "text/x-python",
   "name": "python",
   "nbconvert_exporter": "python",
   "pygments_lexer": "ipython3",
   "version": "3.8.8"
  }
 },
 "nbformat": 4,
 "nbformat_minor": 5
}
