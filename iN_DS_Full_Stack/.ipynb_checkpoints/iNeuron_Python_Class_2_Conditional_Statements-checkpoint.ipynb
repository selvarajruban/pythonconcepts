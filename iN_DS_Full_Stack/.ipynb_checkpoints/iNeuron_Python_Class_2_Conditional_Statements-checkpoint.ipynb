{
 "cells": [
  {
   "cell_type": "code",
   "execution_count": 2,
   "id": "c2ccb812",
   "metadata": {},
   "outputs": [
    {
     "data": {
      "text/plain": [
       "False"
      ]
     },
     "execution_count": 2,
     "metadata": {},
     "output_type": "execute_result"
    }
   ],
   "source": [
    "a = 15\n",
    "a < 15"
   ]
  },
  {
   "cell_type": "code",
   "execution_count": 6,
   "id": "999556bf",
   "metadata": {},
   "outputs": [
    {
     "name": "stdout",
     "output_type": "stream",
     "text": [
      "Condition not satisfied\n"
     ]
    }
   ],
   "source": [
    "if a < 15:\n",
    "    print('condition satisfied')\n",
    "else:\n",
    "    print('Condition not satisfied')"
   ]
  },
  {
   "cell_type": "code",
   "execution_count": 12,
   "id": "ae0dfade",
   "metadata": {},
   "outputs": [
    {
     "name": "stdout",
     "output_type": "stream",
     "text": [
      "workds\n"
     ]
    }
   ],
   "source": [
    "if True:\n",
    "    print('works')"
   ]
  }
 ],
 "metadata": {
  "kernelspec": {
   "display_name": "Python 3",
   "language": "python",
   "name": "python3"
  },
  "language_info": {
   "codemirror_mode": {
    "name": "ipython",
    "version": 3
   },
   "file_extension": ".py",
   "mimetype": "text/x-python",
   "name": "python",
   "nbconvert_exporter": "python",
   "pygments_lexer": "ipython3",
   "version": "3.8.8"
  }
 },
 "nbformat": 4,
 "nbformat_minor": 5
}
