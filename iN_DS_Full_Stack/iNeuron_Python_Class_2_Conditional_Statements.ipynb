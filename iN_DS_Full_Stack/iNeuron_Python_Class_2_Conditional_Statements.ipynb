{
 "cells": [
  {
   "cell_type": "code",
   "execution_count": 2,
   "id": "056e02fd",
   "metadata": {},
   "outputs": [
    {
     "data": {
      "text/plain": [
       "False"
      ]
     },
     "execution_count": 2,
     "metadata": {},
     "output_type": "execute_result"
    }
   ],
   "source": [
    "a = 15\n",
    "a < 15"
   ]
  },
  {
   "cell_type": "code",
   "execution_count": 6,
   "id": "d42e21c7",
   "metadata": {},
   "outputs": [
    {
     "name": "stdout",
     "output_type": "stream",
     "text": [
      "Condition not satisfied\n"
     ]
    }
   ],
   "source": [
    "if a < 15:\n",
    "    print('condition satisfied')\n",
    "else:\n",
    "    print('Condition not satisfied')"
   ]
  },
  {
   "cell_type": "code",
   "execution_count": 13,
   "id": "0e731f5e",
   "metadata": {},
   "outputs": [
    {
     "name": "stdout",
     "output_type": "stream",
     "text": [
      "works\n"
     ]
    }
   ],
   "source": [
    "if True:\n",
    "    print('works')"
   ]
  },
  {
   "cell_type": "code",
   "execution_count": 18,
   "id": "8bbf80b5",
   "metadata": {},
   "outputs": [
    {
     "name": "stdout",
     "output_type": "stream",
     "text": [
      "I wont be able to buy anything\n"
     ]
    }
   ],
   "source": [
    "income = 100\n",
    "if income < 50 :\n",
    "    print('I will be able to buy phone')\n",
    "elif income < 70 :\n",
    "    print('I will be able to buy car')\n",
    "elif income < 90 :\n",
    "    print('I will be able to rent a house')\n",
    "else:\n",
    "    print('I wont be able to buy anything')"
   ]
  },
  {
   "cell_type": "code",
   "execution_count": 19,
   "id": "88bf7f04",
   "metadata": {},
   "outputs": [
    {
     "name": "stdout",
     "output_type": "stream",
     "text": [
      "cba\n",
      "rac\n",
      "ada\n",
      "racecar\n",
      "looc\n"
     ]
    }
   ],
   "source": []
  },
  {
   "cell_type": "code",
   "execution_count": null,
   "id": "d32d47ff",
   "metadata": {},
   "outputs": [],
   "source": [
    "s = \"LeetcodeHelpsMeLearn\", spaces = [8,13,15]"
   ]
  },
  {
   "cell_type": "raw",
   "id": "f3cd05e3",
   "metadata": {},
   "source": [
    "\n",
    "for i in range(len(l)):\n",
    "    print(i)\n",
    "    if type(l[i]) == 'String'"
   ]
  },
  {
   "cell_type": "code",
   "execution_count": 78,
   "id": "637db3c8",
   "metadata": {},
   "outputs": [
    {
     "name": "stdout",
     "output_type": "stream",
     "text": [
      "Index of  2  is  0\n",
      "Index of  45  is  1\n",
      "Index of  78  is  2\n",
      "Index of  12  is  3\n",
      "Index of  selvaraj  is  4\n",
      "Index of  (6+7j)  is  5\n",
      "Index of  [56, 67, 78, 'sfsfas']  is  6\n",
      "Squar list [4, 2025, 6084, 144]\n",
      "String List ['selvaraj']\n"
     ]
    }
   ],
   "source": [
    "l = [2, 45, 78, 12, \"selvaraj\", 6+7j, [56, 67, 78, \"sfsfas\"]]\n",
    "sqlist = []\n",
    "stringList = []\n",
    "for i in range(len(l)):\n",
    "    print('Index of ',l[i],' is ', i)\n",
    "    if type(l[i]) == str: # type(l[i]) is str of instance(l[i], str)\n",
    "        stringList.append(l[i])\n",
    "    if type(l[i]) == int: # type(l[i]) is str of instance(l[i], int)\n",
    "        sqlist.append(l[i] * l[i])\n",
    "\n",
    "print('Squar list', sqlist)\n",
    "print('String List', stringList)\n",
    "    "
   ]
  },
  {
   "cell_type": "code",
   "execution_count": 74,
   "id": "6ba4e4c7",
   "metadata": {},
   "outputs": [
    {
     "name": "stdout",
     "output_type": "stream",
     "text": [
      "0 1\n",
      "1 2\n",
      "2 3\n",
      "3 4\n",
      "4 Dict\n"
     ]
    }
   ],
   "source": [
    "l = [1,2,3,4,4,4, 'python']\n",
    "t = (1,2,3,4, 'Tuple')\n",
    "s = {1,2,3,4, 'Set'}\n",
    "d = {1 : 1,2:2,3:3,4:4, 'Dict':5}\n",
    "\n",
    "for idx, val in enumerate(d):\n",
    "    print(idx, val)"
   ]
  },
  {
   "cell_type": "code",
   "execution_count": null,
   "id": "1f673131",
   "metadata": {},
   "outputs": [],
   "source": []
  },
  {
   "cell_type": "code",
   "execution_count": 22,
   "id": "2d4c5985",
   "metadata": {},
   "outputs": [
    {
     "data": {
      "text/plain": [
       "1.4142135623730951"
      ]
     },
     "execution_count": 22,
     "metadata": {},
     "output_type": "execute_result"
    }
   ],
   "source": [
    "import math\n",
    "math.sqrt(2)\n",
    "math.atanh"
   ]
  }
 ],
 "metadata": {
  "kernelspec": {
   "display_name": "Python 3",
   "language": "python",
   "name": "python3"
  },
  "language_info": {
   "codemirror_mode": {
    "name": "ipython",
    "version": 3
   },
   "file_extension": ".py",
   "mimetype": "text/x-python",
   "name": "python",
   "nbconvert_exporter": "python",
   "pygments_lexer": "ipython3",
   "version": "3.8.8"
  }
 },
 "nbformat": 4,
 "nbformat_minor": 5
}
