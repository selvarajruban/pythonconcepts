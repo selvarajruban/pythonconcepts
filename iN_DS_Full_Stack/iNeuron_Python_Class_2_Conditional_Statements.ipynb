{
 "cells": [
  {
   "cell_type": "code",
   "execution_count": 2,
   "id": "2484ea84",
   "metadata": {},
   "outputs": [
    {
     "data": {
      "text/plain": [
       "False"
      ]
     },
     "execution_count": 2,
     "metadata": {},
     "output_type": "execute_result"
    }
   ],
   "source": [
    "a = 15\n",
    "a < 15"
   ]
  },
  {
   "cell_type": "code",
   "execution_count": 6,
   "id": "b5063190",
   "metadata": {},
   "outputs": [
    {
     "name": "stdout",
     "output_type": "stream",
     "text": [
      "Condition not satisfied\n"
     ]
    }
   ],
   "source": [
    "if a < 15:\n",
    "    print('condition satisfied')\n",
    "else:\n",
    "    print('Condition not satisfied')"
   ]
  },
  {
   "cell_type": "code",
   "execution_count": 13,
   "id": "a1235664",
   "metadata": {},
   "outputs": [
    {
     "name": "stdout",
     "output_type": "stream",
     "text": [
      "works\n"
     ]
    }
   ],
   "source": [
    "if True:\n",
    "    print('works')"
   ]
  },
  {
   "cell_type": "code",
   "execution_count": 18,
   "id": "2060197f",
   "metadata": {},
   "outputs": [
    {
     "name": "stdout",
     "output_type": "stream",
     "text": [
      "I wont be able to buy anything\n"
     ]
    }
   ],
   "source": [
    "income = 100\n",
    "if income < 50 :\n",
    "    print('I will be able to buy phone')\n",
    "elif income < 70 :\n",
    "    print('I will be able to buy car')\n",
    "elif income < 90 :\n",
    "    print('I will be able to rent a house')\n",
    "else:\n",
    "    print('I wont be able to buy anything')"
   ]
  },
  {
   "cell_type": "code",
   "execution_count": 19,
   "id": "4874c635",
   "metadata": {},
   "outputs": [
    {
     "name": "stdout",
     "output_type": "stream",
     "text": [
      "cba\n",
      "rac\n",
      "ada\n",
      "racecar\n",
      "looc\n"
     ]
    }
   ],
   "source": []
  },
  {
   "cell_type": "code",
   "execution_count": null,
   "id": "77319a0e",
   "metadata": {},
   "outputs": [],
   "source": [
    "s = \"LeetcodeHelpsMeLearn\", spaces = [8,13,15]"
   ]
  }
 ],
 "metadata": {
  "kernelspec": {
   "display_name": "Python 3",
   "language": "python",
   "name": "python3"
  },
  "language_info": {
   "codemirror_mode": {
    "name": "ipython",
    "version": 3
   },
   "file_extension": ".py",
   "mimetype": "text/x-python",
   "name": "python",
   "nbconvert_exporter": "python",
   "pygments_lexer": "ipython3",
   "version": "3.8.8"
  }
 },
 "nbformat": 4,
 "nbformat_minor": 5
}
