{
 "cells": [
  {
   "cell_type": "code",
   "execution_count": 8,
   "id": "9a4dbe0c",
   "metadata": {},
   "outputs": [
    {
     "name": "stdout",
     "output_type": "stream",
     "text": [
      "Enter Integer number3\n",
      "3\n"
     ]
    }
   ],
   "source": [
    "a = int(input(\"Enter Integer number\"))\n",
    "print(a)\n",
    "\n",
    "# Problem Statement\n"
   ]
  },
  {
   "cell_type": "code",
   "execution_count": 5,
   "id": "d001633d",
   "metadata": {},
   "outputs": [
    {
     "name": "stdout",
     "output_type": "stream",
     "text": [
      "s\n",
      "This is not valid integer\n"
     ]
    }
   ],
   "source": [
    "try:\n",
    "    a = int(input())\n",
    "except ValueError:\n",
    "    print(\"This is not valid integer\")\n",
    "except Exception as e:\n",
    "    print(e)"
   ]
  },
  {
   "cell_type": "code",
   "execution_count": 18,
   "id": "df959bc6",
   "metadata": {},
   "outputs": [
    {
     "ename": "SyntaxError",
     "evalue": "invalid syntax (<ipython-input-18-148a6597e7cf>, line 2)",
     "output_type": "error",
     "traceback": [
      "\u001b[0;36m  File \u001b[0;32m\"<ipython-input-18-148a6597e7cf>\"\u001b[0;36m, line \u001b[0;32m2\u001b[0m\n\u001b[0;31m    while True print(\"hello\")\u001b[0m\n\u001b[0m               ^\u001b[0m\n\u001b[0;31mSyntaxError\u001b[0m\u001b[0;31m:\u001b[0m invalid syntax\n"
     ]
    }
   ],
   "source": [
    "try:\n",
    "    while True print(\"hello\")\n",
    "except RunimeError:\n",
    "    print(\"error\")\n",
    "except TypeError:\n",
    "    print(\"error\")\n",
    "except NameError:\n",
    "    print(\"error\")\n",
    "except Exception as e:\n",
    "    print(e)"
   ]
  },
  {
   "cell_type": "code",
   "execution_count": 19,
   "id": "8edd596b",
   "metadata": {},
   "outputs": [
    {
     "name": "stdout",
     "output_type": "stream",
     "text": [
      "B\n",
      "C\n",
      "D\n"
     ]
    }
   ],
   "source": [
    "class B(Exception):\n",
    "    pass\n",
    "\n",
    "class C(B):\n",
    "    pass\n",
    "\n",
    "class D(C):\n",
    "    pass\n",
    "\n",
    "for cls in [B, C, D]:\n",
    "    try:\n",
    "        raise cls()\n",
    "    except D:\n",
    "        print(\"D\")\n",
    "    except C:\n",
    "        print(\"C\")\n",
    "    except B:\n",
    "        print(\"B\")"
   ]
  },
  {
   "cell_type": "code",
   "execution_count": 30,
   "id": "719a9854",
   "metadata": {},
   "outputs": [
    {
     "name": "stdout",
     "output_type": "stream",
     "text": [
      "'str' object is not callable\n"
     ]
    }
   ],
   "source": [
    "try:\n",
    "    for a in ('a','b'):\n",
    "        raise a()\n",
    "except Exception as e:\n",
    "    print(e)\n",
    "except TypeError:\n",
    "    print(\"type\")"
   ]
  },
  {
   "cell_type": "code",
   "execution_count": 45,
   "id": "595fe561",
   "metadata": {},
   "outputs": [
    {
     "name": "stdout",
     "output_type": "stream",
     "text": [
      "Exception\n"
     ]
    }
   ],
   "source": [
    "try:\n",
    "    f = open(\"file.txt\", \"r\")\n",
    "except Exception as e:\n",
    "    print('Exception')\n",
    "except FileNotFoundError as e:\n",
    "    print(e)"
   ]
  },
  {
   "cell_type": "code",
   "execution_count": 48,
   "id": "5d790c7e",
   "metadata": {},
   "outputs": [
    {
     "name": "stdout",
     "output_type": "stream",
     "text": [
      "ERROR:  [Errno 2] No such file or directory: '../README.mda'\n"
     ]
    }
   ],
   "source": [
    "try:\n",
    "    f = open(\"../README.mda\", 'r')\n",
    "    while f.readlines():\n",
    "        print(\"Hello I am inside file\")\n",
    "except Exception as e:\n",
    "    print(f'ERROR:  { e }', )\n",
    "except FileNotFoundError as e:\n",
    "    print(e)\n",
    "else:\n",
    "    print(\"file read successfully\") # else block will execute after successful completion of try block"
   ]
  },
  {
   "cell_type": "code",
   "execution_count": 52,
   "id": "cc5ffb67",
   "metadata": {},
   "outputs": [
    {
     "name": "stdout",
     "output_type": "stream",
     "text": [
      "Hi I am else block\n",
      "This is my finally code\n"
     ]
    }
   ],
   "source": [
    "try:\n",
    "    a = 10 \n",
    "except Exception as e:\n",
    "    print(f\"Error : {e}\")\n",
    "else:\n",
    "    print(f\"Hi I am else block\")\n",
    "finally:                          # finally will execute even fail/successful run of try block. This will run always\n",
    "    print(f\"This is my finally code\")\n",
    "    "
   ]
  },
  {
   "cell_type": "code",
   "execution_count": 66,
   "id": "40f59a2d",
   "metadata": {},
   "outputs": [],
   "source": [
    "# problem statement. function to capture the \n",
    "\n",
    "def askint():\n",
    "    while True:\n",
    "        try:\n",
    "            x = int(input(\"Enter an integer value \"))\n",
    "            return f\"you have entereed value { x }\"\n",
    "        except Exception as e:\n",
    "            print(\"This is not valid integer\")\n"
   ]
  },
  {
   "cell_type": "code",
   "execution_count": 67,
   "id": "e9268c3e",
   "metadata": {},
   "outputs": [
    {
     "name": "stdout",
     "output_type": "stream",
     "text": [
      "Enter an integer value 1\n"
     ]
    },
    {
     "data": {
      "text/plain": [
       "'you have entereed value 1'"
      ]
     },
     "execution_count": 67,
     "metadata": {},
     "output_type": "execute_result"
    }
   ],
   "source": [
    "askint()"
   ]
  },
  {
   "cell_type": "code",
   "execution_count": 82,
   "id": "42e67696",
   "metadata": {},
   "outputs": [],
   "source": [
    "def test(a):\n",
    "    if a< 0:\n",
    "        raise Exception(f\"User Entered a negative value { a }\")\n",
    "    return a"
   ]
  },
  {
   "cell_type": "code",
   "execution_count": 83,
   "id": "a497d11d",
   "metadata": {},
   "outputs": [
    {
     "ename": "Exception",
     "evalue": "User Entered a negative value -1",
     "output_type": "error",
     "traceback": [
      "\u001b[0;31m---------------------------------------------------------------------------\u001b[0m",
      "\u001b[0;31mException\u001b[0m                                 Traceback (most recent call last)",
      "\u001b[0;32m<ipython-input-83-75039e678fe6>\u001b[0m in \u001b[0;36m<module>\u001b[0;34m\u001b[0m\n\u001b[0;32m----> 1\u001b[0;31m \u001b[0mtest\u001b[0m\u001b[0;34m(\u001b[0m\u001b[0;34m-\u001b[0m\u001b[0;36m1\u001b[0m\u001b[0;34m)\u001b[0m\u001b[0;34m\u001b[0m\u001b[0;34m\u001b[0m\u001b[0m\n\u001b[0m",
      "\u001b[0;32m<ipython-input-82-7a1b583fad96>\u001b[0m in \u001b[0;36mtest\u001b[0;34m(a)\u001b[0m\n\u001b[1;32m      1\u001b[0m \u001b[0;32mdef\u001b[0m \u001b[0mtest\u001b[0m\u001b[0;34m(\u001b[0m\u001b[0ma\u001b[0m\u001b[0;34m)\u001b[0m\u001b[0;34m:\u001b[0m\u001b[0;34m\u001b[0m\u001b[0;34m\u001b[0m\u001b[0m\n\u001b[1;32m      2\u001b[0m     \u001b[0;32mif\u001b[0m \u001b[0ma\u001b[0m\u001b[0;34m<\u001b[0m \u001b[0;36m0\u001b[0m\u001b[0;34m:\u001b[0m\u001b[0;34m\u001b[0m\u001b[0;34m\u001b[0m\u001b[0m\n\u001b[0;32m----> 3\u001b[0;31m         \u001b[0;32mraise\u001b[0m \u001b[0mException\u001b[0m\u001b[0;34m(\u001b[0m\u001b[0;34mf\"User Entered a negative value { a }\"\u001b[0m\u001b[0;34m)\u001b[0m\u001b[0;34m\u001b[0m\u001b[0;34m\u001b[0m\u001b[0m\n\u001b[0m\u001b[1;32m      4\u001b[0m     \u001b[0;32mreturn\u001b[0m \u001b[0ma\u001b[0m\u001b[0;34m\u001b[0m\u001b[0;34m\u001b[0m\u001b[0m\n",
      "\u001b[0;31mException\u001b[0m: User Entered a negative value -1"
     ]
    }
   ],
   "source": [
    "test(-1)"
   ]
  }
 ],
 "metadata": {
  "kernelspec": {
   "display_name": "Python 3",
   "language": "python",
   "name": "python3"
  },
  "language_info": {
   "codemirror_mode": {
    "name": "ipython",
    "version": 3
   },
   "file_extension": ".py",
   "mimetype": "text/x-python",
   "name": "python",
   "nbconvert_exporter": "python",
   "pygments_lexer": "ipython3",
   "version": "3.8.8"
  }
 },
 "nbformat": 4,
 "nbformat_minor": 5
}
