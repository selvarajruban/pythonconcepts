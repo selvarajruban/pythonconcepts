{
 "cells": [
  {
   "cell_type": "code",
   "execution_count": 34,
   "id": "02825230",
   "metadata": {},
   "outputs": [],
   "source": [
    "s=\"hello world 5 x 5\""
   ]
  },
  {
   "cell_type": "code",
   "execution_count": 36,
   "id": "f4b00cf6",
   "metadata": {},
   "outputs": [],
   "source": [
    "def test():\n",
    "    prevNum, curNum = 0, 0\n",
    "    words = s.split(' ')\n",
    "    for word in words:\n",
    "        if word.isdigit():\n",
    "            curNum = word;        \n",
    "            if int(prevNum) >= int(curNum):\n",
    "                return False\n",
    "            else:\n",
    "                prevNum = curNum\n",
    "    return True"
   ]
  },
  {
   "cell_type": "code",
   "execution_count": 38,
   "id": "ecea7d34",
   "metadata": {},
   "outputs": [
    {
     "data": {
      "text/plain": [
       "False"
      ]
     },
     "execution_count": 38,
     "metadata": {},
     "output_type": "execute_result"
    }
   ],
   "source": [
    "test()"
   ]
  },
  {
   "cell_type": "code",
   "execution_count": null,
   "id": "58ef2cee",
   "metadata": {},
   "outputs": [],
   "source": []
  }
 ],
 "metadata": {
  "kernelspec": {
   "display_name": "Python 3",
   "language": "python",
   "name": "python3"
  },
  "language_info": {
   "codemirror_mode": {
    "name": "ipython",
    "version": 3
   },
   "file_extension": ".py",
   "mimetype": "text/x-python",
   "name": "python",
   "nbconvert_exporter": "python",
   "pygments_lexer": "ipython3",
   "version": "3.8.8"
  }
 },
 "nbformat": 4,
 "nbformat_minor": 5
}
