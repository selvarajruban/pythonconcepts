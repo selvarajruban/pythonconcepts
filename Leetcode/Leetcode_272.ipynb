{
 "cells": [
  {
   "cell_type": "code",
   "execution_count": null,
   "id": "ae456acf",
   "metadata": {},
   "outputs": [],
   "source": [
    "l = [\"abc\",\"car\",\"ada\",\"racecar\",\"cool\"]\n",
    "\n",
    "for i in range(len(l)):\n",
    "    if l[i] == l[i][::-1]:\n",
    "        return l[i]\n",
    "return ''\n",
    "    "
   ]
  },
  {
   "cell_type": "code",
   "execution_count": 29,
   "id": "98ece04e",
   "metadata": {},
   "outputs": [
    {
     "data": {
      "text/plain": [
       "'Leetcode Helps Me Learn '"
      ]
     },
     "execution_count": 29,
     "metadata": {},
     "output_type": "execute_result"
    }
   ],
   "source": [
    "s = \"LeetcodeHelpsMeLearn\"\n",
    "spaces = [8,13,15]\n",
    "new_string = \"\"\n",
    "\n",
    "\n",
    "# for i in range(len(s)):\n",
    "#     for j in range(len(spaces)):\n",
    "#         if i == spaces[j]:\n",
    "#             new_string = new_string + ' '\n",
    "#     new_string = new_string + s[i]\n",
    "\n",
    "# new_string\n",
    "    \n",
    "start = 0\n",
    "end = 0\n",
    "for i in range(len(spaces)):\n",
    "    end = spaces[i]\n",
    "    word = s[start:end]\n",
    "    new_string = new_string + word + ' '\n",
    "    start = end\n",
    "\n",
    "if start < len(s):\n",
    "    word = s[start:len(s)]\n",
    "    new_string = new_string + word + ' '\n",
    "new_string"
   ]
  },
  {
   "cell_type": "code",
   "execution_count": 65,
   "id": "c3c4f383",
   "metadata": {},
   "outputs": [],
   "source": [
    "from typing import List\n",
    "\n",
    "class Solution:\n",
    "    def addSpaces(self, s: str, spaces: List[int]) -> str:\n",
    "        ans = []\n",
    "        for i in reversed(range(len(s))): \n",
    "            ans.append(s[i])\n",
    "            print(spaces, spaces[-1])\n",
    "            if spaces and spaces[-1] == i: \n",
    "                ans.append(' ')\n",
    "                spaces.pop()\n",
    "        return \"\".join(reversed(ans))"
   ]
  },
  {
   "cell_type": "code",
   "execution_count": 66,
   "id": "f52e7c0a",
   "metadata": {},
   "outputs": [
    {
     "name": "stdout",
     "output_type": "stream",
     "text": [
      "19\n",
      "[8, 13, 15] 15\n",
      "18\n",
      "[8, 13, 15] 15\n",
      "17\n",
      "[8, 13, 15] 15\n",
      "16\n",
      "[8, 13, 15] 15\n",
      "15\n",
      "[8, 13, 15] 15\n",
      "14\n",
      "[8, 13] 13\n",
      "13\n",
      "[8, 13] 13\n",
      "12\n",
      "[8] 8\n",
      "11\n",
      "[8] 8\n",
      "10\n",
      "[8] 8\n",
      "9\n",
      "[8] 8\n",
      "8\n",
      "[8] 8\n",
      "7\n"
     ]
    },
    {
     "ename": "IndexError",
     "evalue": "list index out of range",
     "output_type": "error",
     "traceback": [
      "\u001b[0;31m---------------------------------------------------------------------------\u001b[0m",
      "\u001b[0;31mIndexError\u001b[0m                                Traceback (most recent call last)",
      "\u001b[0;32m<ipython-input-66-158efcc392f2>\u001b[0m in \u001b[0;36m<module>\u001b[0;34m\u001b[0m\n\u001b[1;32m      6\u001b[0m     \u001b[0mprint\u001b[0m\u001b[0;34m(\u001b[0m\u001b[0mi\u001b[0m\u001b[0;34m)\u001b[0m\u001b[0;34m\u001b[0m\u001b[0;34m\u001b[0m\u001b[0m\n\u001b[1;32m      7\u001b[0m     \u001b[0mans\u001b[0m\u001b[0;34m.\u001b[0m\u001b[0mappend\u001b[0m\u001b[0;34m(\u001b[0m\u001b[0ms\u001b[0m\u001b[0;34m[\u001b[0m\u001b[0mi\u001b[0m\u001b[0;34m]\u001b[0m\u001b[0;34m)\u001b[0m\u001b[0;34m\u001b[0m\u001b[0;34m\u001b[0m\u001b[0m\n\u001b[0;32m----> 8\u001b[0;31m     \u001b[0mprint\u001b[0m\u001b[0;34m(\u001b[0m\u001b[0mspaces\u001b[0m\u001b[0;34m,\u001b[0m \u001b[0mspaces\u001b[0m\u001b[0;34m[\u001b[0m\u001b[0;34m-\u001b[0m\u001b[0;36m1\u001b[0m\u001b[0;34m]\u001b[0m\u001b[0;34m)\u001b[0m\u001b[0;34m\u001b[0m\u001b[0;34m\u001b[0m\u001b[0m\n\u001b[0m\u001b[1;32m      9\u001b[0m     \u001b[0;32mif\u001b[0m \u001b[0mspaces\u001b[0m \u001b[0;32mand\u001b[0m \u001b[0mspaces\u001b[0m\u001b[0;34m[\u001b[0m\u001b[0;34m-\u001b[0m\u001b[0;36m1\u001b[0m\u001b[0;34m]\u001b[0m \u001b[0;34m==\u001b[0m \u001b[0mi\u001b[0m\u001b[0;34m:\u001b[0m\u001b[0;34m\u001b[0m\u001b[0;34m\u001b[0m\u001b[0m\n\u001b[1;32m     10\u001b[0m         \u001b[0mans\u001b[0m\u001b[0;34m.\u001b[0m\u001b[0mappend\u001b[0m\u001b[0;34m(\u001b[0m\u001b[0;34m' '\u001b[0m\u001b[0;34m)\u001b[0m\u001b[0;34m\u001b[0m\u001b[0;34m\u001b[0m\u001b[0m\n",
      "\u001b[0;31mIndexError\u001b[0m: list index out of range"
     ]
    }
   ],
   "source": [
    "s = \"LeetcodeHelpsMeLearn\"\n",
    "spaces = [8,13,15]\n",
    "\n",
    "ans = []\n",
    "for i in reversed(range(len(s))): \n",
    "    print(i)\n",
    "    ans.append(s[i])\n",
    "    print(spaces, spaces[-1])\n",
    "    if spaces and spaces[-1] == i: \n",
    "        ans.append(' ')\n",
    "        spaces.pop()\n",
    "\"\".join(reversed(ans))"
   ]
  },
  {
   "cell_type": "code",
   "execution_count": 64,
   "id": "6acd13e5",
   "metadata": {},
   "outputs": [
    {
     "data": {
      "text/plain": [
       "321"
      ]
     },
     "execution_count": 64,
     "metadata": {},
     "output_type": "execute_result"
    }
   ],
   "source": [
    "lst = ['1','2','3']\n",
    "num = int(''.join(reversed(lst)))\n",
    "num"
   ]
  }
 ],
 "metadata": {
  "kernelspec": {
   "display_name": "Python 3",
   "language": "python",
   "name": "python3"
  },
  "language_info": {
   "codemirror_mode": {
    "name": "ipython",
    "version": 3
   },
   "file_extension": ".py",
   "mimetype": "text/x-python",
   "name": "python",
   "nbconvert_exporter": "python",
   "pygments_lexer": "ipython3",
   "version": "3.8.8"
  }
 },
 "nbformat": 4,
 "nbformat_minor": 5
}
