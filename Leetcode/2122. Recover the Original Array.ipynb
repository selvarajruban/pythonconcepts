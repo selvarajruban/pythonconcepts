{
 "cells": [
  {
   "cell_type": "code",
   "execution_count": 52,
   "id": "b7d55197",
   "metadata": {},
   "outputs": [],
   "source": [
    "class Solution(object):\n",
    "    def recoverArray(self, nums):\n",
    "        \"\"\"\n",
    "        :type nums: List[int]\n",
    "        :rtype: List[int]\n",
    "        \"\"\"\n",
    "        nums.sort()\n",
    "        \n",
    "        lenArr = len(nums)\n",
    "        midIdx = (lenArr//2)-1\n",
    "\n",
    "        lower  = nums[0:midIdx+1]\n",
    "        higher = nums[midIdx+1:lenArr]\n",
    "        \n",
    "        lower.sort()\n",
    "        higher.sort()\n",
    "        \n",
    "        print(lower)\n",
    "        print(higher)\n",
    "        \n",
    "        k = (higher[0] - lower[0])//2\n",
    "        \n",
    "        print(k)\n",
    "        \n",
    "        arr = [ x + k for x in lower ]\n",
    "        return(arr)\n",
    "            \n",
    "                \n",
    "        "
   ]
  },
  {
   "cell_type": "code",
   "execution_count": 53,
   "id": "0cb11caf",
   "metadata": {},
   "outputs": [
    {
     "name": "stdout",
     "output_type": "stream",
     "text": [
      "[1, 2, 3, 4, 6, 7, 7, 8]\n",
      "[8, 8, 9, 9, 9, 10, 10, 11]\n",
      "3\n"
     ]
    },
    {
     "data": {
      "text/plain": [
       "[4, 5, 6, 7, 9, 10, 10, 11]"
      ]
     },
     "execution_count": 53,
     "metadata": {},
     "output_type": "execute_result"
    }
   ],
   "source": [
    "# nums = [2,10,6,4,8,12]\n",
    "# nums = [1,1,3,3]\n",
    "# nums = [5,435]\n",
    "nums = [11,6,3,4,8,7,8,7,9,8,9,10,10,2,1,9] # output [2,3,7,8,8,9,9,10]\n",
    "expected = []\n",
    "s = Solution()\n",
    "s.recoverArray(nums)\n",
    "\n"
   ]
  },
  {
   "cell_type": "code",
   "execution_count": 58,
   "id": "d93d4435",
   "metadata": {},
   "outputs": [
    {
     "data": {
      "text/plain": [
       "(Counter({5: 2, 4: 1}), [])"
      ]
     },
     "execution_count": 58,
     "metadata": {},
     "output_type": "execute_result"
    }
   ],
   "source": [
    "from collections import Counter\n",
    "lst = [5,4,5]\n",
    "Counter(lst), []"
   ]
  },
  {
   "cell_type": "code",
   "execution_count": 59,
   "id": "3c999be6",
   "metadata": {},
   "outputs": [],
   "source": [
    "class Solution:\n",
    "    def recoverArray(self, nums):\n",
    "        def check(nums, k):\n",
    "            cnt, ans = Counter(nums), []\n",
    "            for num in nums:\n",
    "                if cnt[num] == 0: continue\n",
    "                if cnt[num + k] == 0: return False, []\n",
    "                cnt[num] -= 1\n",
    "                cnt[num + k] -= 1\n",
    "                ans += [num + k//2]\n",
    "            return True, ans\n",
    "            \n",
    "        nums = sorted(nums)\n",
    "        n = len(nums)\n",
    "        for i in range(1, n):\n",
    "            k = nums[i] - nums[0]\n",
    "            if k != 0 and k % 2 == 0:\n",
    "                a, b = check(nums, k)\n",
    "                if a: return b"
   ]
  },
  {
   "cell_type": "code",
   "execution_count": 60,
   "id": "8fcbb2f6",
   "metadata": {},
   "outputs": [
    {
     "data": {
      "text/plain": [
       "[2, 3, 7, 8, 8, 9, 9, 10]"
      ]
     },
     "execution_count": 60,
     "metadata": {},
     "output_type": "execute_result"
    }
   ],
   "source": [
    "nums = [11,6,3,4,8,7,8,7,9,8,9,10,10,2,1,9] # output [2,3,7,8,8,9,9,10]\n",
    "expected = []\n",
    "s = Solution()\n",
    "s.recoverArray(nums)\n",
    "\n"
   ]
  }
 ],
 "metadata": {
  "kernelspec": {
   "display_name": "Python 3",
   "language": "python",
   "name": "python3"
  },
  "language_info": {
   "codemirror_mode": {
    "name": "ipython",
    "version": 3
   },
   "file_extension": ".py",
   "mimetype": "text/x-python",
   "name": "python",
   "nbconvert_exporter": "python",
   "pygments_lexer": "ipython3",
   "version": "3.8.8"
  }
 },
 "nbformat": 4,
 "nbformat_minor": 5
}
