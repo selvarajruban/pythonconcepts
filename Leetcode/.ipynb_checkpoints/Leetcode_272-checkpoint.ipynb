{
 "cells": [
  {
   "cell_type": "code",
   "execution_count": null,
   "id": "14f8f2e7",
   "metadata": {},
   "outputs": [],
   "source": [
    "l = [\"abc\",\"car\",\"ada\",\"racecar\",\"cool\"]\n",
    "\n",
    "for i in range(len(l)):\n",
    "    if l[i] == l[i][::-1]:\n",
    "        return l[i]\n",
    "return ''\n",
    "    "
   ]
  },
  {
   "cell_type": "code",
   "execution_count": 29,
   "id": "98ece04e",
   "metadata": {},
   "outputs": [
    {
     "data": {
      "text/plain": [
       "'Leetcode Helps Me Learn '"
      ]
     },
     "execution_count": 29,
     "metadata": {},
     "output_type": "execute_result"
    }
   ],
   "source": [
    "s = \"LeetcodeHelpsMeLearn\"\n",
    "spaces = [8,13,15]\n",
    "new_string = \"\"\n",
    "\n",
    "\n",
    "# for i in range(len(s)):\n",
    "#     for j in range(len(spaces)):\n",
    "#         if i == spaces[j]:\n",
    "#             new_string = new_string + ' '\n",
    "#     new_string = new_string + s[i]\n",
    "\n",
    "# new_string\n",
    "    \n",
    "start = 0\n",
    "end = 0\n",
    "for i in range(len(spaces)):\n",
    "    end = spaces[i]\n",
    "    word = s[start:end]\n",
    "    new_string = new_string + word + ' '\n",
    "    start = end\n",
    "\n",
    "if start < len(s):\n",
    "    word = s[start:len(s)]\n",
    "    new_string = new_string + word + ' '\n",
    "new_string"
   ]
  },
  {
   "cell_type": "code",
   "execution_count": 32,
   "id": "a4f8ff56",
   "metadata": {},
   "outputs": [],
   "source": [
    "class Solution:\n",
    "    def addSpaces(self, s: str, spaces: [int]) -> str:\n",
    "        ans = []\n",
    "        for i in reversed(range(len(s))): \n",
    "            ans.append(s[i])\n",
    "            if spaces and spaces[-1] == i: \n",
    "                ans.append(' ')\n",
    "                spaces.pop()\n",
    "        return \"\".join(reversed(ans))"
   ]
  },
  {
   "cell_type": "code",
   "execution_count": 43,
   "id": "5f786e6b",
   "metadata": {},
   "outputs": [
    {
     "ename": "TypeError",
     "evalue": "'tuple' object is not callable",
     "output_type": "error",
     "traceback": [
      "\u001b[0;31m---------------------------------------------------------------------------\u001b[0m",
      "\u001b[0;31mTypeError\u001b[0m                                 Traceback (most recent call last)",
      "\u001b[0;32m<ipython-input-43-e3e7626e7d25>\u001b[0m in \u001b[0;36m<module>\u001b[0;34m\u001b[0m\n\u001b[1;32m      2\u001b[0m \u001b[0mspaces\u001b[0m \u001b[0;34m=\u001b[0m \u001b[0;34m[\u001b[0m\u001b[0;36m8\u001b[0m\u001b[0;34m,\u001b[0m\u001b[0;36m13\u001b[0m\u001b[0;34m,\u001b[0m\u001b[0;36m15\u001b[0m\u001b[0;34m]\u001b[0m\u001b[0;34m\u001b[0m\u001b[0;34m\u001b[0m\u001b[0m\n\u001b[1;32m      3\u001b[0m \u001b[0;34m\u001b[0m\u001b[0m\n\u001b[0;32m----> 4\u001b[0;31m \u001b[0ms\u001b[0m \u001b[0;34m=\u001b[0m \u001b[0mSolution\u001b[0m\u001b[0;34m(\u001b[0m\u001b[0;34m)\u001b[0m\u001b[0;34m\u001b[0m\u001b[0;34m\u001b[0m\u001b[0m\n\u001b[0m\u001b[1;32m      5\u001b[0m \u001b[0ms\u001b[0m\u001b[0;34m.\u001b[0m\u001b[0maddSpaces\u001b[0m\u001b[0;34m(\u001b[0m\u001b[0ms\u001b[0m\u001b[0;34m,\u001b[0m \u001b[0mspaces\u001b[0m\u001b[0;34m)\u001b[0m\u001b[0;34m\u001b[0m\u001b[0;34m\u001b[0m\u001b[0m\n",
      "\u001b[0;31mTypeError\u001b[0m: 'tuple' object is not callable"
     ]
    }
   ],
   "source": [
    "s = \"LeetcodeHelpsMeLearn\"\n",
    "spaces = [8,13,15]\n",
    "\n",
    "s = Solution()\n",
    "s.addSpaces(s, spaces)"
   ]
  }
 ],
 "metadata": {
  "kernelspec": {
   "display_name": "Python 3",
   "language": "python",
   "name": "python3"
  },
  "language_info": {
   "codemirror_mode": {
    "name": "ipython",
    "version": 3
   },
   "file_extension": ".py",
   "mimetype": "text/x-python",
   "name": "python",
   "nbconvert_exporter": "python",
   "pygments_lexer": "ipython3",
   "version": "3.8.8"
  }
 },
 "nbformat": 4,
 "nbformat_minor": 5
}
