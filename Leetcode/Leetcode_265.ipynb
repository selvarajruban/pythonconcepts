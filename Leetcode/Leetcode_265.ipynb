{
 "cells": [
  {
   "cell_type": "code",
   "execution_count": 38,
   "id": "afb58775",
   "metadata": {},
   "outputs": [
    {
     "data": {
      "text/plain": [
       "(3, 3)"
      ]
     },
     "execution_count": 38,
     "metadata": {},
     "output_type": "execute_result"
    }
   ],
   "source": [
    "s =list(set([3]))\n",
    "s[0], s[-1]"
   ]
  },
  {
   "cell_type": "code",
   "execution_count": 29,
   "id": "2b391a63",
   "metadata": {},
   "outputs": [],
   "source": [
    "# Definition for singly-linked list.\n",
    "# class ListNode(object):\n",
    "#     def __init__(self, val=0, next=None):\n",
    "#         self.val = val\n",
    "#         self.next = next\n",
    "class Solution(object):\n",
    "    def nodesBetweenCriticalPoints(self, head):\n",
    "        \"\"\"\n",
    "        :type head: Optional[ListNode]\n",
    "        :rtype: List[int]\n",
    "        \"\"\"\n",
    "        node = []\n",
    "        sort = []\n",
    "        print(list(head))\n",
    "        for i in range(len(head)):\n",
    "            if i == 0 or i == len(head)-1:\n",
    "                pass\n",
    "            else:\n",
    "                if head[i] > head [i-1] and head[i] > head [i+1]:\n",
    "                    node.append(i+1)\n",
    "\n",
    "                if head[i] < head [i-1] and head[i] < head [i+1]:\n",
    "                    node.append(i+1)\n",
    "    \n",
    "        print(node)\n",
    "        if(len(node)==0):\n",
    "            mindist = -1\n",
    "            maxdist = -1\n",
    "            node=[mindist, maxdist]\n",
    "            return(node)\n",
    "        else:\n",
    "            for i in range(len(node)):\n",
    "                for j in range(len(node)):\n",
    "                    if i != j:\n",
    "                        sort.append(abs(node[i]-node[j]))\n",
    "    #     print(sorted)\n",
    "\n",
    "        s = list(set(sort))\n",
    "        return([s[0], s[-1]])"
   ]
  },
  {
   "cell_type": "code",
   "execution_count": 32,
   "id": "94f3e6a8",
   "metadata": {},
   "outputs": [
    {
     "ename": "NameError",
     "evalue": "name 'self' is not defined",
     "output_type": "error",
     "traceback": [
      "\u001b[0;31m---------------------------------------------------------------------------\u001b[0m",
      "\u001b[0;31mNameError\u001b[0m                                 Traceback (most recent call last)",
      "\u001b[0;32m<ipython-input-32-46d84b497d62>\u001b[0m in \u001b[0;36m<module>\u001b[0;34m\u001b[0m\n\u001b[1;32m      4\u001b[0m \u001b[0;31m# # nums = [3,1]\u001b[0m\u001b[0;34m\u001b[0m\u001b[0;34m\u001b[0m\u001b[0;34m\u001b[0m\u001b[0m\n\u001b[1;32m      5\u001b[0m \u001b[0;34m\u001b[0m\u001b[0m\n\u001b[0;32m----> 6\u001b[0;31m \u001b[0ms\u001b[0m\u001b[0;34m.\u001b[0m\u001b[0mnodesBetweenCriticalPoints\u001b[0m\u001b[0;34m(\u001b[0m\u001b[0mself\u001b[0m\u001b[0;34m,\u001b[0m \u001b[0mnums\u001b[0m\u001b[0;34m)\u001b[0m\u001b[0;34m\u001b[0m\u001b[0;34m\u001b[0m\u001b[0m\n\u001b[0m\u001b[1;32m      7\u001b[0m \u001b[0;34m\u001b[0m\u001b[0m\n\u001b[1;32m      8\u001b[0m \u001b[0;31m# lst = nodesBetweenCriticalPoints(nums)\u001b[0m\u001b[0;34m\u001b[0m\u001b[0;34m\u001b[0m\u001b[0;34m\u001b[0m\u001b[0m\n",
      "\u001b[0;31mNameError\u001b[0m: name 'self' is not defined"
     ]
    }
   ],
   "source": [
    "\n",
    "s = Solution\n",
    "\n",
    "nums = [5,3,1,2,5,1,2]\n",
    "# # nums = [3,1]\n",
    "\n",
    "s.nodesBetweenCriticalPoints(self, nums)\n",
    "    \n",
    "# lst = nodesBetweenCriticalPoints(nums)\n",
    "# print(lst)\n",
    "\n",
    "\n",
    "    "
   ]
  },
  {
   "cell_type": "code",
   "execution_count": 9,
   "id": "843cff16",
   "metadata": {},
   "outputs": [
    {
     "ename": "NameError",
     "evalue": "name 'mod' is not defined",
     "output_type": "error",
     "traceback": [
      "\u001b[0;31m---------------------------------------------------------------------------\u001b[0m",
      "\u001b[0;31mNameError\u001b[0m                                 Traceback (most recent call last)",
      "\u001b[0;32m<ipython-input-9-16c1ec8ad5b4>\u001b[0m in \u001b[0;36m<module>\u001b[0;34m\u001b[0m\n\u001b[0;32m----> 1\u001b[0;31m \u001b[0mmod\u001b[0m\u001b[0;34m(\u001b[0m\u001b[0;34m-\u001b[0m\u001b[0;36m2\u001b[0m\u001b[0;34m)\u001b[0m\u001b[0;34m\u001b[0m\u001b[0;34m\u001b[0m\u001b[0m\n\u001b[0m",
      "\u001b[0;31mNameError\u001b[0m: name 'mod' is not defined"
     ]
    }
   ],
   "source": [
    "mod(-2)"
   ]
  },
  {
   "cell_type": "code",
   "execution_count": 83,
   "id": "e2ae877d",
   "metadata": {},
   "outputs": [],
   "source": [
    "nums = [1,2,3,5]\n",
    "\n",
    "for i in range(len(nums)):\n",
    "     d= nums[i] - nums[i-1]\n",
    "    if d"
   ]
  },
  {
   "cell_type": "code",
   "execution_count": 61,
   "id": "ef5b4772",
   "metadata": {},
   "outputs": [],
   "source": [
    "    def smallestEqual(nums):\n",
    "        \"\"\"\n",
    "        :type nums: List[int]\n",
    "        :rtype: int\n",
    "        \"\"\"\n",
    "        print(type(nums))\n",
    "        for i in range(len(nums)):\n",
    "                print(i, '---', i%10, '-----', nums[i])\n",
    "                if (i % 10) == nums[i] :\n",
    "                    return(i)\n",
    "\n",
    "        return(-1)"
   ]
  },
  {
   "cell_type": "code",
   "execution_count": 62,
   "id": "22aaaca9",
   "metadata": {},
   "outputs": [
    {
     "name": "stdout",
     "output_type": "stream",
     "text": [
      "<class 'list'>\n",
      "0 --- 0 ----- 7\n",
      "1 --- 1 ----- 8\n",
      "2 --- 2 ----- 3\n",
      "3 --- 3 ----- 5\n",
      "4 --- 4 ----- 2\n",
      "5 --- 5 ----- 6\n",
      "6 --- 6 ----- 3\n",
      "7 --- 7 ----- 1\n",
      "8 --- 8 ----- 1\n",
      "9 --- 9 ----- 4\n",
      "10 --- 0 ----- 5\n",
      "11 --- 1 ----- 4\n",
      "12 --- 2 ----- 8\n",
      "13 --- 3 ----- 7\n",
      "14 --- 4 ----- 2\n",
      "15 --- 5 ----- 0\n",
      "16 --- 6 ----- 9\n",
      "17 --- 7 ----- 9\n",
      "18 --- 8 ----- 0\n",
      "19 --- 9 ----- 5\n",
      "20 --- 0 ----- 7\n",
      "21 --- 1 ----- 1\n"
     ]
    },
    {
     "data": {
      "text/plain": [
       "21"
      ]
     },
     "execution_count": 62,
     "metadata": {},
     "output_type": "execute_result"
    }
   ],
   "source": [
    "nums = [7,8,3,5,2,6,3,1,1,4,5,4,8,7,2,0,9,9,0,5,7,1,6]\n",
    "smallestEqual(nums)"
   ]
  }
 ],
 "metadata": {
  "kernelspec": {
   "display_name": "Python 3",
   "language": "python",
   "name": "python3"
  },
  "language_info": {
   "codemirror_mode": {
    "name": "ipython",
    "version": 3
   },
   "file_extension": ".py",
   "mimetype": "text/x-python",
   "name": "python",
   "nbconvert_exporter": "python",
   "pygments_lexer": "ipython3",
   "version": "3.8.8"
  }
 },
 "nbformat": 4,
 "nbformat_minor": 5
}
